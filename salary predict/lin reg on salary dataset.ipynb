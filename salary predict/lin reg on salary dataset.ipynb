{
 "cells": [
  {
   "cell_type": "code",
   "execution_count": 4,
   "id": "da13fd68-40e3-4986-99ce-d897efe400ef",
   "metadata": {},
   "outputs": [],
   "source": [
    "import numpy as np\n",
    "from sklearn.linear_model import LinearRegression\n",
    "import pandas as pd"
   ]
  },
  {
   "cell_type": "code",
   "execution_count": 6,
   "id": "84442d06-9cf4-48c7-993b-643288347e74",
   "metadata": {},
   "outputs": [],
   "source": [
    "df=pd.read_csv('Salary_dataset.csv')"
   ]
  },
  {
   "cell_type": "code",
   "execution_count": 11,
   "id": "96907468-ca38-44bd-8dc8-736deb51bb36",
   "metadata": {},
   "outputs": [],
   "source": [
    "x=df['YearsExperience']\n",
    "y=df['Salary']"
   ]
  },
  {
   "cell_type": "code",
   "execution_count": 29,
   "id": "f6a90bba-1380-4b99-a181-6c9b130528fb",
   "metadata": {},
   "outputs": [],
   "source": [
    "x=np.array(x).reshape(-1,1)\n",
    "y=np.array(y).reshape(-1,1)"
   ]
  },
  {
   "cell_type": "code",
   "execution_count": 32,
   "id": "69399541-7010-4464-b983-cb87111c18fc",
   "metadata": {},
   "outputs": [],
   "source": [
    "# model\n",
    "model=LinearRegression().fit(x,y)"
   ]
  },
  {
   "cell_type": "code",
   "execution_count": 35,
   "id": "25a87412-a47e-40b4-9d7b-851176e8433a",
   "metadata": {},
   "outputs": [
    {
     "data": {
      "text/plain": [
       "0.9569566641435086"
      ]
     },
     "execution_count": 35,
     "metadata": {},
     "output_type": "execute_result"
    }
   ],
   "source": [
    "# R**2 , coef of determination\n",
    "r_sq=model.score(x,y)\n",
    "r_sq "
   ]
  },
  {
   "cell_type": "code",
   "execution_count": 39,
   "id": "13d4954c-d78a-4975-afc4-15a05a50eee7",
   "metadata": {},
   "outputs": [
    {
     "data": {
      "text/plain": [
       "array([24848.20396652])"
      ]
     },
     "execution_count": 39,
     "metadata": {},
     "output_type": "execute_result"
    }
   ],
   "source": [
    "# b0\n",
    "model.intercept_"
   ]
  },
  {
   "cell_type": "code",
   "execution_count": 40,
   "id": "8f83a2d4-eca2-4186-8560-2f36a6d698c1",
   "metadata": {},
   "outputs": [
    {
     "data": {
      "text/plain": [
       "array([[9449.96232146]])"
      ]
     },
     "execution_count": 40,
     "metadata": {},
     "output_type": "execute_result"
    }
   ],
   "source": [
    "# b1\n",
    "model.coef_"
   ]
  },
  {
   "cell_type": "code",
   "execution_count": 41,
   "id": "4c95feb1-460b-46ca-8c96-182cb2d9b261",
   "metadata": {},
   "outputs": [
    {
     "data": {
      "text/plain": [
       "array([[ 36188.15875227],\n",
       "       [ 38078.15121656],\n",
       "       [ 39968.14368085],\n",
       "       [ 44693.12484158],\n",
       "       [ 46583.11730587],\n",
       "       [ 53198.09093089],\n",
       "       [ 54143.08716303],\n",
       "       [ 56033.07962732],\n",
       "       [ 56033.07962732],\n",
       "       [ 60758.06078805],\n",
       "       [ 62648.05325234],\n",
       "       [ 63593.04948449],\n",
       "       [ 63593.04948449],\n",
       "       [ 64538.04571663],\n",
       "       [ 68318.03064522],\n",
       "       [ 72098.0155738 ],\n",
       "       [ 73988.00803809],\n",
       "       [ 75878.00050238],\n",
       "       [ 81547.97789525],\n",
       "       [ 82492.9741274 ],\n",
       "       [ 90052.94398456],\n",
       "       [ 92887.932681  ],\n",
       "       [100447.90253816],\n",
       "       [103282.8912346 ],\n",
       "       [108007.87239533],\n",
       "       [110842.86109176],\n",
       "       [115567.84225249],\n",
       "       [116512.83848464],\n",
       "       [123127.81210966],\n",
       "       [125017.80457395]])"
      ]
     },
     "execution_count": 41,
     "metadata": {},
     "output_type": "execute_result"
    }
   ],
   "source": [
    "y_pred=model.predict(x)\n",
    "y_pred"
   ]
  },
  {
   "cell_type": "code",
   "execution_count": null,
   "id": "90814170-b2dd-4f9b-9a05-f34dbd59ca35",
   "metadata": {},
   "outputs": [],
   "source": []
  }
 ],
 "metadata": {
  "kernelspec": {
   "display_name": "Python 3 (ipykernel)",
   "language": "python",
   "name": "python3"
  },
  "language_info": {
   "codemirror_mode": {
    "name": "ipython",
    "version": 3
   },
   "file_extension": ".py",
   "mimetype": "text/x-python",
   "name": "python",
   "nbconvert_exporter": "python",
   "pygments_lexer": "ipython3",
   "version": "3.8.17"
  }
 },
 "nbformat": 4,
 "nbformat_minor": 5
}
