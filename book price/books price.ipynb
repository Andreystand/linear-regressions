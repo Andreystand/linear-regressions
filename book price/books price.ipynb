{
 "cells": [
  {
   "cell_type": "code",
   "execution_count": 109,
   "id": "60cb5efd-1d05-467c-a2e5-598dd3220819",
   "metadata": {},
   "outputs": [],
   "source": [
    "\n",
    "import numpy as np\n",
    "import pandas as pd\n",
    "from sklearn.linear_model import LinearRegression \n",
    "from sklearn.preprocessing import StandardScaler, LabelEncoder\n",
    "from sklearn.metrics import mean_squared_error, mean_absolute_error \n",
    "from sklearn import preprocessing \n",
    "df=pd.read_csv('Books_Data_Clean.csv')\n",
    "\n",
    "scaler = StandardScaler()\n",
    "\n",
    "\n"
   ]
  },
  {
   "cell_type": "code",
   "execution_count": 110,
   "id": "85116f57-b5c9-495d-9dfa-02527a73e527",
   "metadata": {},
   "outputs": [
    {
     "name": "stdout",
     "output_type": "stream",
     "text": [
      "<class 'pandas.core.frame.DataFrame'>\n",
      "RangeIndex: 1070 entries, 0 to 1069\n",
      "Data columns (total 15 columns):\n",
      " #   Column               Non-Null Count  Dtype  \n",
      "---  ------               --------------  -----  \n",
      " 0   index                1070 non-null   int64  \n",
      " 1   Publishing Year      1069 non-null   float64\n",
      " 2   Book Name            1047 non-null   object \n",
      " 3   Author               1070 non-null   object \n",
      " 4   language_code        1017 non-null   object \n",
      " 5   Author_Rating        1070 non-null   object \n",
      " 6   Book_average_rating  1070 non-null   float64\n",
      " 7   Book_ratings_count   1070 non-null   int64  \n",
      " 8   genre                1070 non-null   object \n",
      " 9   gross sales          1070 non-null   float64\n",
      " 10  publisher revenue    1070 non-null   float64\n",
      " 11  sale price           1070 non-null   float64\n",
      " 12  sales rank           1070 non-null   int64  \n",
      " 13  Publisher            1070 non-null   object \n",
      " 14  units sold           1070 non-null   int64  \n",
      "dtypes: float64(5), int64(4), object(6)\n",
      "memory usage: 125.5+ KB\n"
     ]
    }
   ],
   "source": [
    "df.info()"
   ]
  },
  {
   "cell_type": "code",
   "execution_count": 111,
   "id": "028da480-9628-4a7a-ab66-e6894882f856",
   "metadata": {},
   "outputs": [
    {
     "data": {
      "text/plain": [
       "index                   0\n",
       "Publishing Year         1\n",
       "Book Name              23\n",
       "Author                  0\n",
       "language_code          53\n",
       "Author_Rating           0\n",
       "Book_average_rating     0\n",
       "Book_ratings_count      0\n",
       "genre                   0\n",
       "gross sales             0\n",
       "publisher revenue       0\n",
       "sale price              0\n",
       "sales rank              0\n",
       "Publisher               0\n",
       "units sold              0\n",
       "dtype: int64"
      ]
     },
     "execution_count": 111,
     "metadata": {},
     "output_type": "execute_result"
    }
   ],
   "source": [
    "df.isna().sum()"
   ]
  },
  {
   "cell_type": "code",
   "execution_count": 112,
   "id": "da8d9035-3605-4b87-a59c-f2a8545ed7da",
   "metadata": {},
   "outputs": [],
   "source": [
    "df=df.dropna()"
   ]
  },
  {
   "cell_type": "code",
   "execution_count": 113,
   "id": "cb1a2113-8571-416e-a131-a1b8c16efab3",
   "metadata": {},
   "outputs": [
    {
     "data": {
      "text/plain": [
       "Index(['index', 'Publishing Year', 'Book Name', 'Author', 'language_code',\n",
       "       'Author_Rating', 'Book_average_rating', 'Book_ratings_count', 'genre',\n",
       "       'gross sales', 'publisher revenue', 'sale price', 'sales rank',\n",
       "       'Publisher ', 'units sold'],\n",
       "      dtype='object')"
      ]
     },
     "execution_count": 113,
     "metadata": {},
     "output_type": "execute_result"
    }
   ],
   "source": [
    "df.columns"
   ]
  },
  {
   "cell_type": "code",
   "execution_count": 114,
   "id": "3354ea42-f948-45dc-ab75-4d255a4d0126",
   "metadata": {},
   "outputs": [],
   "source": [
    "df.columns=['index','publishing year','book name','author','language_code','author_rating','book_average_rating','book_rating_count','genre','gross sales',\n",
    "'publisher revenue','sale price','sales rank','publisher','units sold']"
   ]
  },
  {
   "cell_type": "code",
   "execution_count": 115,
   "id": "e49851c6-f674-4244-807d-6f6d51ddb51e",
   "metadata": {},
   "outputs": [],
   "source": [
    "df=df.drop('index', axis=1)\n",
    "categorical_columns=['book name','author','language_code','author_rating','genre','publisher']\n",
    "\n",
    "numerical_columns=['publishing year','book_average_rating','book_rating_count','gross sales','publisher revenue','sale price','sales rank','units sold']\n"
   ]
  },
  {
   "cell_type": "code",
   "execution_count": 116,
   "id": "c22cb4bb-d78c-47f9-aae4-83557a5c4be5",
   "metadata": {},
   "outputs": [],
   "source": [
    "\n",
    "label_encoder = LabelEncoder()\n",
    "for column in categorical_columns:\n",
    "    df[column] = label_encoder.fit_transform(df[column])"
   ]
  },
  {
   "cell_type": "code",
   "execution_count": 117,
   "id": "4ef34619-c11a-4595-a6cd-c6883d32ac24",
   "metadata": {},
   "outputs": [
    {
     "data": {
      "text/html": [
       "<div>\n",
       "<style scoped>\n",
       "    .dataframe tbody tr th:only-of-type {\n",
       "        vertical-align: middle;\n",
       "    }\n",
       "\n",
       "    .dataframe tbody tr th {\n",
       "        vertical-align: top;\n",
       "    }\n",
       "\n",
       "    .dataframe thead th {\n",
       "        text-align: right;\n",
       "    }\n",
       "</style>\n",
       "<table border=\"1\" class=\"dataframe\">\n",
       "  <thead>\n",
       "    <tr style=\"text-align: right;\">\n",
       "      <th></th>\n",
       "      <th>publishing year</th>\n",
       "      <th>book name</th>\n",
       "      <th>author</th>\n",
       "      <th>language_code</th>\n",
       "      <th>author_rating</th>\n",
       "      <th>book_average_rating</th>\n",
       "      <th>book_rating_count</th>\n",
       "      <th>genre</th>\n",
       "      <th>gross sales</th>\n",
       "      <th>publisher revenue</th>\n",
       "      <th>sale price</th>\n",
       "      <th>sales rank</th>\n",
       "      <th>publisher</th>\n",
       "      <th>units sold</th>\n",
       "    </tr>\n",
       "  </thead>\n",
       "  <tbody>\n",
       "    <tr>\n",
       "      <th>0</th>\n",
       "      <td>1975.0</td>\n",
       "      <td>96</td>\n",
       "      <td>662</td>\n",
       "      <td>3</td>\n",
       "      <td>3</td>\n",
       "      <td>3.42</td>\n",
       "      <td>155903</td>\n",
       "      <td>2</td>\n",
       "      <td>34160.0</td>\n",
       "      <td>20496.0</td>\n",
       "      <td>4.88</td>\n",
       "      <td>1</td>\n",
       "      <td>3</td>\n",
       "      <td>7000</td>\n",
       "    </tr>\n",
       "    <tr>\n",
       "      <th>1</th>\n",
       "      <td>1987.0</td>\n",
       "      <td>84</td>\n",
       "      <td>204</td>\n",
       "      <td>4</td>\n",
       "      <td>2</td>\n",
       "      <td>4.23</td>\n",
       "      <td>145267</td>\n",
       "      <td>2</td>\n",
       "      <td>12437.5</td>\n",
       "      <td>7462.5</td>\n",
       "      <td>1.99</td>\n",
       "      <td>2</td>\n",
       "      <td>3</td>\n",
       "      <td>6250</td>\n",
       "    </tr>\n",
       "    <tr>\n",
       "      <th>2</th>\n",
       "      <td>2015.0</td>\n",
       "      <td>275</td>\n",
       "      <td>235</td>\n",
       "      <td>4</td>\n",
       "      <td>3</td>\n",
       "      <td>3.31</td>\n",
       "      <td>138669</td>\n",
       "      <td>2</td>\n",
       "      <td>47795.0</td>\n",
       "      <td>28677.0</td>\n",
       "      <td>8.69</td>\n",
       "      <td>3</td>\n",
       "      <td>0</td>\n",
       "      <td>5500</td>\n",
       "    </tr>\n",
       "    <tr>\n",
       "      <th>3</th>\n",
       "      <td>2008.0</td>\n",
       "      <td>945</td>\n",
       "      <td>152</td>\n",
       "      <td>3</td>\n",
       "      <td>2</td>\n",
       "      <td>4.04</td>\n",
       "      <td>150898</td>\n",
       "      <td>1</td>\n",
       "      <td>41250.0</td>\n",
       "      <td>24750.0</td>\n",
       "      <td>7.50</td>\n",
       "      <td>3</td>\n",
       "      <td>1</td>\n",
       "      <td>5500</td>\n",
       "    </tr>\n",
       "    <tr>\n",
       "      <th>4</th>\n",
       "      <td>2011.0</td>\n",
       "      <td>164</td>\n",
       "      <td>407</td>\n",
       "      <td>4</td>\n",
       "      <td>2</td>\n",
       "      <td>4.04</td>\n",
       "      <td>198283</td>\n",
       "      <td>2</td>\n",
       "      <td>37952.5</td>\n",
       "      <td>22771.5</td>\n",
       "      <td>7.99</td>\n",
       "      <td>4</td>\n",
       "      <td>6</td>\n",
       "      <td>4750</td>\n",
       "    </tr>\n",
       "  </tbody>\n",
       "</table>\n",
       "</div>"
      ],
      "text/plain": [
       "   publishing year  book name  author  language_code  author_rating  \\\n",
       "0           1975.0         96     662              3              3   \n",
       "1           1987.0         84     204              4              2   \n",
       "2           2015.0        275     235              4              3   \n",
       "3           2008.0        945     152              3              2   \n",
       "4           2011.0        164     407              4              2   \n",
       "\n",
       "   book_average_rating  book_rating_count  genre  gross sales  \\\n",
       "0                 3.42             155903      2      34160.0   \n",
       "1                 4.23             145267      2      12437.5   \n",
       "2                 3.31             138669      2      47795.0   \n",
       "3                 4.04             150898      1      41250.0   \n",
       "4                 4.04             198283      2      37952.5   \n",
       "\n",
       "   publisher revenue  sale price  sales rank  publisher  units sold  \n",
       "0            20496.0        4.88           1          3        7000  \n",
       "1             7462.5        1.99           2          3        6250  \n",
       "2            28677.0        8.69           3          0        5500  \n",
       "3            24750.0        7.50           3          1        5500  \n",
       "4            22771.5        7.99           4          6        4750  "
      ]
     },
     "execution_count": 117,
     "metadata": {},
     "output_type": "execute_result"
    }
   ],
   "source": [
    "df.head()"
   ]
  },
  {
   "cell_type": "code",
   "execution_count": 118,
   "id": "28c667cb-6930-4b31-9861-46c16f6d94dd",
   "metadata": {},
   "outputs": [
    {
     "name": "stdout",
     "output_type": "stream",
     "text": [
      "<class 'pandas.core.frame.DataFrame'>\n",
      "Index: 998 entries, 0 to 1069\n",
      "Data columns (total 14 columns):\n",
      " #   Column               Non-Null Count  Dtype  \n",
      "---  ------               --------------  -----  \n",
      " 0   publishing year      998 non-null    float64\n",
      " 1   book name            998 non-null    int32  \n",
      " 2   author               998 non-null    int32  \n",
      " 3   language_code        998 non-null    int32  \n",
      " 4   author_rating        998 non-null    int32  \n",
      " 5   book_average_rating  998 non-null    float64\n",
      " 6   book_rating_count    998 non-null    int64  \n",
      " 7   genre                998 non-null    int32  \n",
      " 8   gross sales          998 non-null    float64\n",
      " 9   publisher revenue    998 non-null    float64\n",
      " 10  sale price           998 non-null    float64\n",
      " 11  sales rank           998 non-null    int64  \n",
      " 12  publisher            998 non-null    int32  \n",
      " 13  units sold           998 non-null    int64  \n",
      "dtypes: float64(5), int32(6), int64(3)\n",
      "memory usage: 93.6 KB\n"
     ]
    }
   ],
   "source": [
    "df.info()"
   ]
  },
  {
   "cell_type": "code",
   "execution_count": 119,
   "id": "851ce8d4-9b70-41c1-930e-8259c9c37222",
   "metadata": {},
   "outputs": [
    {
     "data": {
      "text/plain": [
       "publishing year        0\n",
       "book name              0\n",
       "author                 0\n",
       "language_code          0\n",
       "author_rating          0\n",
       "book_average_rating    0\n",
       "book_rating_count      0\n",
       "genre                  0\n",
       "gross sales            0\n",
       "publisher revenue      0\n",
       "sale price             0\n",
       "sales rank             0\n",
       "publisher              0\n",
       "units sold             0\n",
       "dtype: int64"
      ]
     },
     "execution_count": 119,
     "metadata": {},
     "output_type": "execute_result"
    }
   ],
   "source": [
    "df.isna().sum()"
   ]
  },
  {
   "cell_type": "code",
   "execution_count": 120,
   "id": "f3d5302a-b73e-4aaa-be46-318002b7ace9",
   "metadata": {},
   "outputs": [
    {
     "ename": "SyntaxError",
     "evalue": "invalid syntax (791285630.py, line 1)",
     "output_type": "error",
     "traceback": [
      "\u001b[1;36m  Cell \u001b[1;32mIn[120], line 1\u001b[1;36m\u001b[0m\n\u001b[1;33m    df.\u001b[0m\n\u001b[1;37m       ^\u001b[0m\n\u001b[1;31mSyntaxError\u001b[0m\u001b[1;31m:\u001b[0m invalid syntax\n"
     ]
    }
   ],
   "source": [
    "df."
   ]
  },
  {
   "cell_type": "code",
   "execution_count": 121,
   "id": "8c3411ef-627d-4175-992f-c6c7d2577453",
   "metadata": {},
   "outputs": [],
   "source": [
    "from sklearn.model_selection import train_test_split\n",
    "X=df.drop('gross sales', axis=1)\n",
    "y=df['gross sales']\n",
    "X_train, X_test, y_train, y_test = train_test_split(X, y, test_size=0.4, random_state=42)"
   ]
  },
  {
   "cell_type": "code",
   "execution_count": 122,
   "id": "b7be654a-11a3-4796-9dfb-e8feaa08ab55",
   "metadata": {},
   "outputs": [],
   "source": [
    "model=LinearRegression().fit(X_train,y_train)"
   ]
  },
  {
   "cell_type": "code",
   "execution_count": 125,
   "id": "6e1336fc-9aad-47fd-9e63-1ff02b88d4a0",
   "metadata": {},
   "outputs": [
    {
     "name": "stdout",
     "output_type": "stream",
     "text": [
      "mse 2475398.822119683\n",
      "mae 778.432804073813\n",
      "score 0.8012868970012411\n"
     ]
    }
   ],
   "source": [
    "print ('mse', mean_squared_error(y_test, model.predict(X_test)))\n",
    "print('mae',mean_absolute_error(y_test, model.predict(X_test)))\n",
    "print('score',model.score(X_train,y_train))"
   ]
  },
  {
   "cell_type": "code",
   "execution_count": null,
   "id": "692c23e0-5061-4352-bd6f-92bc08b54dc8",
   "metadata": {},
   "outputs": [],
   "source": []
  }
 ],
 "metadata": {
  "kernelspec": {
   "display_name": "Python 3 (ipykernel)",
   "language": "python",
   "name": "python3"
  },
  "language_info": {
   "codemirror_mode": {
    "name": "ipython",
    "version": 3
   },
   "file_extension": ".py",
   "mimetype": "text/x-python",
   "name": "python",
   "nbconvert_exporter": "python",
   "pygments_lexer": "ipython3",
   "version": "3.8.17"
  }
 },
 "nbformat": 4,
 "nbformat_minor": 5
}
